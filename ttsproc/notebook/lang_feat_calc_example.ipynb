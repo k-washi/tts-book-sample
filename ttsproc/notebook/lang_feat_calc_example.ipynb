{
 "cells": [
  {
   "cell_type": "markdown",
   "source": [
    "# 言語特徴量の計算"
   ],
   "metadata": {}
  },
  {
   "cell_type": "code",
   "execution_count": 1,
   "source": [
    "import pyopenjtalk"
   ],
   "outputs": [],
   "metadata": {}
  },
  {
   "cell_type": "code",
   "execution_count": null,
   "source": [
    "ex_text = \"今日もいい天気ですね\""
   ],
   "outputs": [],
   "metadata": {}
  }
 ],
 "metadata": {
  "orig_nbformat": 4,
  "language_info": {
   "name": "python",
   "version": "3.8.11",
   "mimetype": "text/x-python",
   "codemirror_mode": {
    "name": "ipython",
    "version": 3
   },
   "pygments_lexer": "ipython3",
   "nbconvert_exporter": "python",
   "file_extension": ".py"
  },
  "kernelspec": {
   "name": "python3",
   "display_name": "Python 3.8.11 64-bit ('ml-exp-env': pyenv)"
  },
  "interpreter": {
   "hash": "689e15d8f8a7b0b3d701cd126eb951e7cf54f2c78960314c46630921869fc11f"
  }
 },
 "nbformat": 4,
 "nbformat_minor": 2
}