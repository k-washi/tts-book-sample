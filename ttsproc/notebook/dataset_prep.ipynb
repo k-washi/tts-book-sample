{
 "cells": [
  {
   "cell_type": "markdown",
   "source": [
    "# データセットの準備"
   ],
   "metadata": {}
  },
  {
   "cell_type": "code",
   "execution_count": 1,
   "source": [
    "import os\n",
    "if \"ttsproc\" in os.getcwd():\n",
    "    os.chdir(\"../../\")\n",
    "print(os.getcwd())"
   ],
   "outputs": [
    {
     "output_type": "stream",
     "name": "stdout",
     "text": [
      "/Users/washizakikai/dev/ml/tts-book-sample\n"
     ]
    }
   ],
   "metadata": {}
  },
  {
   "cell_type": "code",
   "execution_count": 2,
   "source": [
    "import pathlib"
   ],
   "outputs": [],
   "metadata": {}
  },
  {
   "cell_type": "code",
   "execution_count": 20,
   "source": [
    "DATASET_PATH = \"/Users/washizakikai/dev/dataset/audio/jsut_ver1.1\"\n",
    "#DATASET_PATH = pathlib.Path(DATASET_PATH)"
   ],
   "outputs": [],
   "metadata": {}
  },
  {
   "cell_type": "code",
   "execution_count": 25,
   "source": [
    "%%bash -s {DATASET_PATH}\n",
    "mkdir -p data\n",
    "find $1 -name \"*.wav\" -exec basename {} .wav \\; | sort > data/utt_list.txt\n",
    "head -n 4700 data/utt_list.txt > data/train.list\n",
    "tail -300 data/utt_list.txt > data/deveval.list\n",
    "head -n 200 data/deveval.list > data/dev.list\n",
    "tail -n 100 data/deveval.list > data/eval.list\n",
    "rm -f data/deveval.list"
   ],
   "outputs": [],
   "metadata": {}
  },
  {
   "cell_type": "code",
   "execution_count": null,
   "source": [],
   "outputs": [],
   "metadata": {}
  }
 ],
 "metadata": {
  "orig_nbformat": 4,
  "language_info": {
   "name": "python",
   "version": "3.8.11",
   "mimetype": "text/x-python",
   "codemirror_mode": {
    "name": "ipython",
    "version": 3
   },
   "pygments_lexer": "ipython3",
   "nbconvert_exporter": "python",
   "file_extension": ".py"
  },
  "kernelspec": {
   "name": "python3",
   "display_name": "Python 3.8.11 64-bit ('ml-exp-env': pyenv)"
  },
  "interpreter": {
   "hash": "689e15d8f8a7b0b3d701cd126eb951e7cf54f2c78960314c46630921869fc11f"
  }
 },
 "nbformat": 4,
 "nbformat_minor": 2
}